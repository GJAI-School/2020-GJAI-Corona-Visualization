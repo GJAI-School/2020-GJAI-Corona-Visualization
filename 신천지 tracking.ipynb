{
 "cells": [
  {
   "cell_type": "code",
   "execution_count": 28,
   "metadata": {},
   "outputs": [],
   "source": [
    "import pandas as pd\n",
    "import numpy as np"
   ]
  },
  {
   "cell_type": "code",
   "execution_count": 138,
   "metadata": {},
   "outputs": [],
   "source": [
    "data = pd.read_csv('./peak_time.csv')\n",
    "\n",
    "data['patient_id'] = data['patient_id'].astype(str)\n",
    "data['infected_by'] = data['infected_by'].astype(str)\n",
    "\n",
    "data['patient_id'] = data['patient_id'].str.replace(\"\\.0\", \"\")\n",
    "data['infected_by'] = data['infected_by'].str.replace(\"\\.0\", \"\")"
   ]
  },
  {
   "cell_type": "code",
   "execution_count": 162,
   "metadata": {},
   "outputs": [
    {
     "data": {
      "text/plain": [
       "(2094, 19)"
      ]
     },
     "execution_count": 162,
     "metadata": {},
     "output_type": "execute_result"
    }
   ],
   "source": [
    "data.shape"
   ]
  },
  {
   "cell_type": "code",
   "execution_count": 139,
   "metadata": {},
   "outputs": [
    {
     "data": {
      "text/plain": [
       "(107, 19)"
      ]
     },
     "execution_count": 139,
     "metadata": {},
     "output_type": "execute_result"
    }
   ],
   "source": [
    "data[data['infection_case'] == 'Shincheonji Church'].shape"
   ]
  },
  {
   "cell_type": "code",
   "execution_count": 161,
   "metadata": {},
   "outputs": [
    {
     "data": {
      "text/plain": [
       "(107,)"
      ]
     },
     "execution_count": 161,
     "metadata": {},
     "output_type": "execute_result"
    }
   ],
   "source": [
    "Shincheonji_lst_num1 = data[data['infection_case'] == 'Shincheonji Church'].patient_id.values\n",
    "print(Shincheonji_lst_num1.shape)\n",
    "\n",
    "for idx in range(data.shape[0]):\n",
    "    if data['infected_by'][idx] in Shincheonji_lst_num1:\n",
    "        data['infection_case'][idx] = 'Shincheonji Church'\n",
    "        \n",
    "print(data[data['infection_case'] == 'Shincheonji Church'].shape)"
   ]
  },
  {
   "cell_type": "code",
   "execution_count": 170,
   "metadata": {},
   "outputs": [
    {
     "data": {
      "text/plain": [
       "(134, 19)"
      ]
     },
     "execution_count": 170,
     "metadata": {},
     "output_type": "execute_result"
    }
   ],
   "source": [
    "data[data['infection_case'] == 'Shincheonji Church'].shape"
   ]
  },
  {
   "cell_type": "code",
   "execution_count": 171,
   "metadata": {},
   "outputs": [
    {
     "name": "stdout",
     "output_type": "stream",
     "text": [
      "(134,)\n",
      "(144, 19)\n"
     ]
    },
    {
     "name": "stderr",
     "output_type": "stream",
     "text": [
      "C:\\Users\\MyLaptop\\anaconda3\\lib\\site-packages\\ipykernel_launcher.py:6: SettingWithCopyWarning: \n",
      "A value is trying to be set on a copy of a slice from a DataFrame\n",
      "\n",
      "See the caveats in the documentation: https://pandas.pydata.org/pandas-docs/stable/user_guide/indexing.html#returning-a-view-versus-a-copy\n",
      "  \n"
     ]
    }
   ],
   "source": [
    "Shincheonji_lst_num1 = data[data['infection_case'] == 'Shincheonji Church'].patient_id.values\n",
    "print(Shincheonji_lst_num1.shape)\n",
    "\n",
    "for idx in range(data.shape[0]):\n",
    "    if data['infected_by'][idx] in Shincheonji_lst_num1:\n",
    "        data['infection_case'][idx] = 'Shincheonji Church'\n",
    "        \n",
    "print(data[data['infection_case'] == 'Shincheonji Church'].shape)"
   ]
  },
  {
   "cell_type": "code",
   "execution_count": 172,
   "metadata": {},
   "outputs": [
    {
     "name": "stdout",
     "output_type": "stream",
     "text": [
      "(144,)\n",
      "(145, 19)\n"
     ]
    },
    {
     "name": "stderr",
     "output_type": "stream",
     "text": [
      "C:\\Users\\MyLaptop\\anaconda3\\lib\\site-packages\\ipykernel_launcher.py:6: SettingWithCopyWarning: \n",
      "A value is trying to be set on a copy of a slice from a DataFrame\n",
      "\n",
      "See the caveats in the documentation: https://pandas.pydata.org/pandas-docs/stable/user_guide/indexing.html#returning-a-view-versus-a-copy\n",
      "  \n"
     ]
    }
   ],
   "source": [
    "Shincheonji_lst_num1 = data[data['infection_case'] == 'Shincheonji Church'].patient_id.values\n",
    "print(Shincheonji_lst_num1.shape)\n",
    "\n",
    "for idx in range(data.shape[0]):\n",
    "    if data['infected_by'][idx] in Shincheonji_lst_num1:\n",
    "        data['infection_case'][idx] = 'Shincheonji Church'\n",
    "        \n",
    "print(data[data['infection_case'] == 'Shincheonji Church'].shape)"
   ]
  },
  {
   "cell_type": "code",
   "execution_count": 176,
   "metadata": {},
   "outputs": [
    {
     "name": "stdout",
     "output_type": "stream",
     "text": [
      "(148,)\n",
      "(148, 19)\n"
     ]
    },
    {
     "name": "stderr",
     "output_type": "stream",
     "text": [
      "C:\\Users\\MyLaptop\\anaconda3\\lib\\site-packages\\ipykernel_launcher.py:6: SettingWithCopyWarning: \n",
      "A value is trying to be set on a copy of a slice from a DataFrame\n",
      "\n",
      "See the caveats in the documentation: https://pandas.pydata.org/pandas-docs/stable/user_guide/indexing.html#returning-a-view-versus-a-copy\n",
      "  \n"
     ]
    }
   ],
   "source": [
    "Shincheonji_lst_num1 = data[data['infection_case'] == 'Shincheonji Church'].patient_id.values\n",
    "print(Shincheonji_lst_num1.shape)\n",
    "\n",
    "for idx in range(data.shape[0]):\n",
    "    if data['infected_by'][idx] in Shincheonji_lst_num1:\n",
    "        data['infection_case'][idx] = 'Shincheonji Church'\n",
    "        \n",
    "print(data[data['infection_case'] == 'Shincheonji Church'].shape)"
   ]
  },
  {
   "cell_type": "code",
   "execution_count": null,
   "metadata": {},
   "outputs": [],
   "source": []
  }
 ],
 "metadata": {
  "kernelspec": {
   "display_name": "Python 3",
   "language": "python",
   "name": "python3"
  },
  "language_info": {
   "codemirror_mode": {
    "name": "ipython",
    "version": 3
   },
   "file_extension": ".py",
   "mimetype": "text/x-python",
   "name": "python",
   "nbconvert_exporter": "python",
   "pygments_lexer": "ipython3",
   "version": "3.7.6"
  }
 },
 "nbformat": 4,
 "nbformat_minor": 4
}
